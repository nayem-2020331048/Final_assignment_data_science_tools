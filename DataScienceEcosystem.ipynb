{
 "cells": [
  {
   "cell_type": "markdown",
   "id": "1b3dd316-b3b8-4dbd-a109-405dea389c94",
   "metadata": {},
   "source": [
    "# Data Science Tools and Ecosystem"
   ]
  },
  {
   "cell_type": "markdown",
   "id": "fc968c73-6893-4072-b962-910fd61131ba",
   "metadata": {},
   "source": [
    "#### In this notebook, Data Science Tools and Ecosystem are summarized."
   ]
  },
  {
   "cell_type": "markdown",
   "id": "6c2fa9c9-d6f6-4a48-b7e7-87e2766181c6",
   "metadata": {},
   "source": [
    "##### Welcome to the immersive world of data science, where this notebook serves as a comprehensive guide and collaborative space for exploring data collecting, analyzing, and deriving meaningful insights from diverse datasets"
   ]
  },
  {
   "cell_type": "markdown",
   "id": "2e8afc83-80a7-4808-b437-501b5e06eaba",
   "metadata": {},
   "source": [
    "**Objectives**\n",
    "+ an overview of fundamental data science concepts.\n",
    "+ Define key terms such as data, variables, and datasets.\n",
    "+ Explain the importance of data science in various fields."
   ]
  },
  {
   "cell_type": "markdown",
   "id": "bc9c48be-75ba-43ac-9326-d2fb67ac1238",
   "metadata": {},
   "source": [
    "### Some of the popular languages that Data Scientists use are:"
   ]
  },
  {
   "cell_type": "markdown",
   "id": "45386243-6aaf-4662-8acd-f389ac95f68c",
   "metadata": {},
   "source": [
    "<ol>\n",
    "    <li>Python</li>\n",
    "    <li>R</li>\n",
    "    <li>Java</li>\n",
    "    <li>Julia</li>\n",
    "    <li>Scala</li>\n",
    "    </ol>\n",
    "\n"
   ]
  },
  {
   "cell_type": "markdown",
   "id": "b5013def-c483-4765-81ad-b1bbac75cca1",
   "metadata": {},
   "source": [
    "### Some of the commonly used libraries used by Data Scientists include:"
   ]
  },
  {
   "cell_type": "markdown",
   "id": "1f57c143-0833-4cb7-b8c9-47d041430ce4",
   "metadata": {},
   "source": [
    "<ol>\n",
    "    <li>Pandas</li>\n",
    "    <li>Seaborn</li>\n",
    "    <li>NumPy</li>\n",
    "    <li>Matplotlib</li>\n",
    "    <li>Scikit</li>\n",
    "    <li>Tensorflow</li>\n",
    "    </ol>\n",
    "\n"
   ]
  },
  {
   "cell_type": "markdown",
   "id": "8ba18790-8d1f-4b03-90de-9d0896e2570a",
   "metadata": {},
   "source": [
    "###  Data Science tools"
   ]
  },
  {
   "cell_type": "markdown",
   "id": "6ce37222-32e2-47ce-b1db-af4a97a7a5a2",
   "metadata": {},
   "source": [
    "<ol>\n",
    "    <li>Weka (for data mining)</li>\n",
    "    <li>ApacheMlLib  (Scalable Machine learning)</li>\n",
    "    <li>Apache Spark</li>\n",
    "    <li>Keras (Deep learning Neural Networks)</li>\n",
    "    <li>Hadoop (storage for Big data)</li>\n",
    "    </ol>\n",
    "\n"
   ]
  },
  {
   "cell_type": "markdown",
   "id": "7a828e43-52ca-4e06-9810-28c59fe55ca7",
   "metadata": {},
   "source": [
    "### Below are a few examples of evaluating arithmetic expressions in Python\n"
   ]
  },
  {
   "cell_type": "markdown",
   "id": "551248be-dde5-479f-90e5-2c8925f9ce7f",
   "metadata": {},
   "source": [
    "adding numbers: <br>\n",
    "    result=5+3 <br>\n",
    "subtracting numbers: <br>\n",
    "    result=5-3 <br>\n",
    "multiplication numbers: <br>\n",
    "    result=5 * 3 <br>\n",
    "dividing numbers: <br>\n",
    "    result=5/3  <br>\n",
    "    \n"
   ]
  },
  {
   "cell_type": "code",
   "execution_count": 13,
   "id": "af67d3c0-264a-44bc-b1ae-a97ac0d303dc",
   "metadata": {
    "tags": []
   },
   "outputs": [
    {
     "name": "stdout",
     "output_type": "stream",
     "text": [
      "17\n"
     ]
    }
   ],
   "source": [
    "#This a simple arithmetic expression to mutiply then add integers\n",
    "a= (3*4)+5\n",
    "print(a)"
   ]
  },
  {
   "cell_type": "code",
   "execution_count": 14,
   "id": "9d5e83f7-888a-4247-ae28-49211fb9a7a2",
   "metadata": {
    "tags": []
   },
   "outputs": [
    {
     "name": "stdout",
     "output_type": "stream",
     "text": [
      "3 hours and 20 minutes\n"
     ]
    }
   ],
   "source": [
    "#This will convert 200 minutes to hours by diving by 60\n",
    "a=int(200/60)\n",
    "b=200%60\n",
    "print(\"{} hours and {} minutes\".format(a,b))"
   ]
  },
  {
   "cell_type": "markdown",
   "id": "090c2f2a-f50f-4ee6-9923-80f5391f2f24",
   "metadata": {},
   "source": [
    "## Author\n",
    "<p>Nayem Ahmed</p>\n"
   ]
  },
  {
   "cell_type": "code",
   "execution_count": null,
   "id": "2a2de22a-9f41-4437-99a9-9beb82ae62c7",
   "metadata": {},
   "outputs": [],
   "source": []
  }
 ],
 "metadata": {
  "kernelspec": {
   "display_name": "Python 3 (ipykernel)",
   "language": "python",
   "name": "python3"
  },
  "language_info": {
   "codemirror_mode": {
    "name": "ipython",
    "version": 3
   },
   "file_extension": ".py",
   "mimetype": "text/x-python",
   "name": "python",
   "nbconvert_exporter": "python",
   "pygments_lexer": "ipython3",
   "version": "3.11.5"
  }
 },
 "nbformat": 4,
 "nbformat_minor": 5
}
